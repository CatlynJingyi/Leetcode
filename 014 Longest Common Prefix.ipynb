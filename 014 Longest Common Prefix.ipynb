{
 "cells": [
  {
   "cell_type": "markdown",
   "metadata": {
    "collapsed": true,
    "pycharm": {
     "name": "#%% md\n"
    }
   },
   "source": [
    "# 找到最长的公共字符串\n",
    "\n",
    "## 1. 最直接想法\n",
    "\n",
    "先找到最短的str，再依次将其余str与minstr作比较，找到最长的公共字符串。\n",
    "\n",
    "即只需写一个找到两个str的公共字符串函数即可，整体都可拆分成两两比较。"
   ]
  },
  {
   "cell_type": "code",
   "execution_count": 15,
   "outputs": [
    {
     "name": "stdout",
     "text": [
      "3\nflow\n4\n"
     ],
     "output_type": "stream"
    }
   ],
   "source": [
    "input=[\"flower\",\"flow\",\"flight\"]\n",
    "print(len(input))\n",
    "print(input[1])\n",
    "print(len(input[1]))"
   ],
   "metadata": {
    "collapsed": false,
    "pycharm": {
     "name": "#%%\n",
     "is_executing": false
    }
   }
  },
  {
   "cell_type": "code",
   "execution_count": 10,
   "outputs": [
    {
     "name": "stdout",
     "text": [
      "[6, 4, 6]\n"
     ],
     "output_type": "stream"
    }
   ],
   "source": [
    "strlen=len(input)\n",
    "len_array=[]\n",
    "for i in range(strlen):\n",
    "    len_array.append(len(input[i]))\n",
    "print(len_array)"
   ],
   "metadata": {
    "collapsed": false,
    "pycharm": {
     "name": "#%%\n",
     "is_executing": false
    }
   }
  },
  {
   "cell_type": "code",
   "execution_count": 11,
   "outputs": [
    {
     "name": "stdout",
     "text": [
      "[1]\n1\n"
     ],
     "output_type": "stream"
    }
   ],
   "source": [
    "#find the shortest string\n",
    "index=[i for i, x in enumerate(len_array) if x==min(len_array)]\n",
    "print(index)\n",
    "print(index[0])\n",
    "index=index[0]"
   ],
   "metadata": {
    "collapsed": false,
    "pycharm": {
     "name": "#%%\n",
     "is_executing": false
    }
   }
  },
  {
   "cell_type": "code",
   "execution_count": 12,
   "outputs": [
    {
     "name": "stdout",
     "text": [
      "f\nl\no\nw\n"
     ],
     "output_type": "stream"
    }
   ],
   "source": [
    "#understand how to split string\n",
    "minstr=input[index]\n",
    "for j in minstr:\n",
    "    print(j)"
   ],
   "metadata": {
    "collapsed": false,
    "pycharm": {
     "name": "#%%\n",
     "is_executing": false
    }
   }
  },
  {
   "cell_type": "code",
   "execution_count": 13,
   "outputs": [
    {
     "name": "stdout",
     "text": [
      "['flower', 'flight']\n"
     ],
     "output_type": "stream"
    }
   ],
   "source": [
    "del input[index]\n",
    "print(input)"
   ],
   "metadata": {
    "collapsed": false,
    "pycharm": {
     "name": "#%%\n",
     "is_executing": false
    }
   }
  },
  {
   "cell_type": "code",
   "execution_count": 14,
   "outputs": [],
   "source": [
    "#find longest common string between minstr and str1\n",
    "def find_common(str1,str2):\n",
    "    len1=len(str1)\n",
    "    len2=len(str2)\n",
    "    common=[]\n",
    "    p=-1 # record beginging index\n",
    "    for m in range(0,len1):\n",
    "        a=str1[m]\n",
    "        for n in range(p+1,len2):\n",
    "            if str2[n]==a:\n",
    "                p=n\n",
    "                common.append(a)\n",
    "                break\n",
    "    return common"
   ],
   "metadata": {
    "collapsed": false,
    "pycharm": {
     "name": "#%%\n",
     "is_executing": false
    }
   }
  },
  {
   "cell_type": "code",
   "execution_count": 17,
   "outputs": [
    {
     "name": "stdout",
     "text": [
      "['f', 'l', 'o', 'w']\n['r']\n"
     ],
     "output_type": "stream"
    }
   ],
   "source": [
    "#test function\n",
    "com1=find_common('flower','flow')\n",
    "print(com1)\n",
    "com2=find_common('racecar','car')\n",
    "print(com2)"
   ],
   "metadata": {
    "collapsed": false,
    "pycharm": {
     "name": "#%%\n",
     "is_executing": false
    }
   }
  },
  {
   "cell_type": "markdown",
   "source": [
    "从上面com2的结果可以看出，一定要从短的str开始遍历，修改函数find_common如下："
   ],
   "metadata": {
    "collapsed": false,
    "pycharm": {
     "name": "#%% md\n"
    }
   }
  },
  {
   "cell_type": "code",
   "execution_count": 25,
   "outputs": [
    {
     "name": "stdout",
     "text": [
      "car\n"
     ],
     "output_type": "stream"
    }
   ],
   "source": [
    "def find_common(str1,str2):\n",
    "    #make sure str1 is the shortest\n",
    "    if len(str1)>len(str2):\n",
    "        newstr=str1\n",
    "        str1=str2\n",
    "        str2=newstr\n",
    "    common=\"\"\n",
    "    p=-1 # record beginging index\n",
    "    for m in range(0,len(str1)):\n",
    "        a=str1[m]\n",
    "        for n in range(p+1,len(str2)):\n",
    "            if str2[n]==a:\n",
    "                p=n\n",
    "                common+=a\n",
    "                break\n",
    "    return common\n",
    "#test\n",
    "com2=find_common('racecar','car')\n",
    "print(com2)"
   ],
   "metadata": {
    "collapsed": false,
    "pycharm": {
     "name": "#%%\n",
     "is_executing": false
    }
   }
  },
  {
   "cell_type": "markdown",
   "source": [
    "现在扩展到用find_common处理一个含多个str的List"
   ],
   "metadata": {
    "collapsed": false,
    "pycharm": {
     "name": "#%% md\n"
    }
   }
  },
  {
   "cell_type": "code",
   "execution_count": 23,
   "outputs": [],
   "source": [
    "def longest_common_prefix(strs):\n",
    "    length=len(strs)\n",
    "    M=1e5\n",
    "    for i in range(length):\n",
    "        if len(strs[i])<M:\n",
    "            index=i #record the shortest str's index\n",
    "            M=len(strs[i])\n",
    "    minstr=strs[index]\n",
    "    strs.remove(minstr)\n",
    "    for j in range(length-1):\n",
    "        commonstr=find_common(minstr,strs[j])\n",
    "        minstr=commonstr\n",
    "    return minstr"
   ],
   "metadata": {
    "collapsed": false,
    "pycharm": {
     "name": "#%%\n",
     "is_executing": false
    }
   }
  },
  {
   "cell_type": "code",
   "execution_count": 26,
   "outputs": [
    {
     "name": "stdout",
     "text": [
      "fl\n"
     ],
     "output_type": "stream"
    }
   ],
   "source": [
    "#test1\n",
    "input1=[\"flower\",\"flow\",\"flight\"]\n",
    "out1=longest_common_prefix(input1)\n",
    "print(out1)"
   ],
   "metadata": {
    "collapsed": false,
    "pycharm": {
     "name": "#%%\n",
     "is_executing": false
    }
   }
  },
  {
   "cell_type": "code",
   "execution_count": 27,
   "outputs": [
    {
     "name": "stdout",
     "text": [
      "\n"
     ],
     "output_type": "stream"
    }
   ],
   "source": [
    "#test2\n",
    "input2=[\"dog\",\"racecar\",\"car\"]\n",
    "out2=longest_common_prefix(input2)\n",
    "print(out2)"
   ],
   "metadata": {
    "collapsed": false,
    "pycharm": {
     "name": "#%%\n",
     "is_executing": false
    }
   }
  },
  {
   "cell_type": "markdown",
   "source": [
    "## !重要问题\n",
    "\n",
    "Prefix指前缀，之前把该题想复杂了，比如['ca','a']的common prefix应该为\"\"\n",
    "\n",
    "而照之前找公共字符串的方法得到的答案是'a'\n",
    "\n",
    "## 修改\n",
    "\n",
    "依旧先找出最短的str，主要修改find_common函数，还是两两比较循环找出common predix."
   ],
   "metadata": {
    "collapsed": false,
    "pycharm": {
     "name": "#%% md\n"
    }
   }
  },
  {
   "cell_type": "code",
   "execution_count": 28,
   "outputs": [],
   "source": [
    "def common_prefix(str1,str2):\n",
    "    if len(str1)>len(str2):\n",
    "        newstr=str1\n",
    "        str1=str2\n",
    "        str2=newstr\n",
    "    common=\"\"\n",
    "    for i in range(len(str1)):\n",
    "        if str1[i]==str2[i]:\n",
    "            common+=str1[i]\n",
    "        else:\n",
    "            break\n",
    "    return common"
   ],
   "metadata": {
    "collapsed": false,
    "pycharm": {
     "name": "#%%\n",
     "is_executing": false
    }
   }
  },
  {
   "cell_type": "code",
   "execution_count": 30,
   "outputs": [
    {
     "name": "stdout",
     "text": [
      "flow\n\n"
     ],
     "output_type": "stream"
    }
   ],
   "source": [
    "#test\n",
    "com1=common_prefix('flower','flow')\n",
    "print(com1)\n",
    "com2=common_prefix('racecar','car')\n",
    "print(com2)"
   ],
   "metadata": {
    "collapsed": false,
    "pycharm": {
     "name": "#%%\n",
     "is_executing": false
    }
   }
  },
  {
   "cell_type": "code",
   "execution_count": 31,
   "outputs": [],
   "source": [
    "def longest_common_prefix(strs):\n",
    "    length=len(strs)\n",
    "    M=1e5\n",
    "    for i in range(length):\n",
    "        if len(strs[i])<M:\n",
    "            index=i #record the shortest str's index\n",
    "            M=len(strs[i])\n",
    "    minstr=strs[index]\n",
    "    strs.remove(minstr)\n",
    "    for j in range(length-1):\n",
    "        commonstr=common_prefix(minstr,strs[j])\n",
    "        minstr=commonstr\n",
    "    return minstr"
   ],
   "metadata": {
    "collapsed": false,
    "pycharm": {
     "name": "#%%\n",
     "is_executing": false
    }
   }
  },
  {
   "cell_type": "code",
   "execution_count": 32,
   "outputs": [
    {
     "name": "stdout",
     "text": [
      "fl\n"
     ],
     "output_type": "stream"
    }
   ],
   "source": [
    "#test1\n",
    "input1=[\"flower\",\"flow\",\"flight\"]\n",
    "out1=longest_common_prefix(input1)\n",
    "print(out1)"
   ],
   "metadata": {
    "collapsed": false,
    "pycharm": {
     "name": "#%%\n",
     "is_executing": false
    }
   }
  },
  {
   "cell_type": "code",
   "execution_count": 33,
   "outputs": [
    {
     "name": "stdout",
     "text": [
      "\n"
     ],
     "output_type": "stream"
    }
   ],
   "source": [
    "#test2\n",
    "input2=[\"dog\",\"racecar\",\"car\"]out2=longest_common_prefix(input2)\n",
    "print(out2)"
   ],
   "metadata": {
    "collapsed": false,
    "pycharm": {
     "name": "#%%\n",
     "is_executing": false
    }
   }
  },
  {
   "cell_type": "markdown",
   "source": [
    "方法1运行结果：runtime 32ms, memory 14.2mb\n",
    "\n",
    "## 2. 改进方法1：\n",
    "\n",
    "总思路不变，尝试使用python自带函数改进程序。\n",
    "\n",
    "2.1 用min函数改进找最小str的代码："
   ],
   "metadata": {
    "collapsed": false,
    "pycharm": {
     "name": "#%% md\n"
    }
   }
  },
  {
   "cell_type": "code",
   "execution_count": 40,
   "outputs": [
    {
     "name": "stdout",
     "text": [
      "Execution time: 0.0\nflow\n"
     ],
     "output_type": "stream"
    }
   ],
   "source": [
    "#origin code\n",
    "import time\n",
    "strs=[\"flower\",\"flow\",\"flight\",\"flue\"]\n",
    "start_time=time.time()\n",
    "length=len(strs)\n",
    "M=1e5\n",
    "for i in range(length):\n",
    "    if len(strs[i])<M:\n",
    "        index=i #record the shortest str's index\n",
    "        M=len(strs[i])\n",
    "minstr=strs[index]\n",
    "end_time=time.time()\n",
    "print('Execution time:',end_time-start_time)\n",
    "print(minstr)"
   ],
   "metadata": {
    "collapsed": false,
    "pycharm": {
     "name": "#%%\n",
     "is_executing": false
    }
   }
  },
  {
   "cell_type": "code",
   "execution_count": 41,
   "outputs": [
    {
     "name": "stdout",
     "text": [
      "Execution time: 0.0\nflow\n"
     ],
     "output_type": "stream"
    }
   ],
   "source": [
    "start_time=time.time()\n",
    "minstr=min(strs,key=len)\n",
    "end_time=time.time()\n",
    "end_time=time.time()\n",
    "print('Execution time:',end_time-start_time)\n",
    "print(minstr)"
   ],
   "metadata": {
    "collapsed": false,
    "pycharm": {
     "name": "#%%\n",
     "is_executing": false
    }
   }
  },
  {
   "cell_type": "markdown",
   "source": [
    "2.2 用enumerate函数改进遍历的代码："
   ],
   "metadata": {
    "collapsed": false,
    "pycharm": {
     "name": "#%% md\n"
    }
   }
  },
  {
   "cell_type": "code",
   "execution_count": 42,
   "outputs": [
    {
     "name": "stdout",
     "text": [
      "Execution time: 0.0009951591491699219\nfl\n"
     ],
     "output_type": "stream"
    }
   ],
   "source": [
    "#origin code\n",
    "start_time=time.time()\n",
    "strs.remove(minstr)\n",
    "for j in range(len(minstr)-1):\n",
    "    commonstr=common_prefix(minstr,strs[j])\n",
    "    minstr=commonstr\n",
    "end_time=time.time()\n",
    "print('Execution time:',end_time-start_time)\n",
    "print(minstr)"
   ],
   "metadata": {
    "collapsed": false,
    "pycharm": {
     "name": "#%%\n",
     "is_executing": false
    }
   }
  },
  {
   "cell_type": "code",
   "execution_count": 43,
   "outputs": [
    {
     "name": "stdout",
     "text": [
      "Execution time: 0.0009942054748535156\nfl\n"
     ],
     "output_type": "stream"
    }
   ],
   "source": [
    "strs=[\"flower\",\"flow\",\"flight\",\"flue\"]\n",
    "start_time=time.time()\n",
    "for i, ch in enumerate(minstr):\n",
    "    for other in strs:\n",
    "        if other[i] != ch:\n",
    "            minstr=minstr[:i]\n",
    "end_time=time.time()\n",
    "print('Execution time:',end_time-start_time)\n",
    "print(minstr)"
   ],
   "metadata": {
    "collapsed": false,
    "pycharm": {
     "name": "#%%\n",
     "is_executing": false
    }
   }
  },
  {
   "cell_type": "markdown",
   "source": [
    "改进后运行结果：runtime 28ms, memory 13.9mb\n",
    "\n",
    "## 3. 改进方法2：\n",
    "使用python list的自带属性来改进。\n",
    "\n",
    "使用List排序：直接可以将按照字母顺序重新排好，此时比较第一个和最后一个str的\n",
    "公共prefix即可，不用再遍历一遍\n",
    "\n",
    "> list.sort(cmp=None, key=None, reverse=False):\n",
    ">\n",
    ">默认按字符升序排列"
   ],
   "metadata": {
    "collapsed": false,
    "pycharm": {
     "name": "#%% md\n"
    }
   }
  },
  {
   "cell_type": "code",
   "execution_count": 44,
   "outputs": [
    {
     "name": "stdout",
     "text": [
      "['flight', 'flow', 'flower', 'flue']\n"
     ],
     "output_type": "stream"
    }
   ],
   "source": [
    "strs.sort()\n",
    "print(strs)"
   ],
   "metadata": {
    "collapsed": false,
    "pycharm": {
     "name": "#%%\n",
     "is_executing": false
    }
   }
  },
  {
   "cell_type": "code",
   "source": [
    "def longestCommonPrefix(strs):\n",
    "    if not strs:\n",
    "        return ''\n",
    "    strs.sort()\n",
    "    first=strs[0]\n",
    "    last=strs[-1]\n",
    "    i=0\n",
    "    while i<len(first) and i<len(last) and first[i]==last[i]:\n",
    "        i+=1\n",
    "    return first[:i]"
   ],
   "metadata": {
    "collapsed": false,
    "pycharm": {
     "name": "#%% \n",
     "is_executing": false
    }
   },
   "execution_count": 47,
   "outputs": []
  },
  {
   "cell_type": "code",
   "execution_count": 48,
   "outputs": [
    {
     "name": "stdout",
     "text": [
      "fl\n"
     ],
     "output_type": "stream"
    }
   ],
   "source": [
    "#test\n",
    "print(longestCommonPrefix(strs))"
   ],
   "metadata": {
    "collapsed": false,
    "pycharm": {
     "name": "#%%\n",
     "is_executing": false
    }
   }
  },
  {
   "cell_type": "markdown",
   "source": [
    "运行结果：runtime 28ms, memory 13.8mb"
   ],
   "metadata": {
    "collapsed": false,
    "pycharm": {
     "name": "#%% md\n"
    }
   }
  }
 ],
 "metadata": {
  "kernelspec": {
   "display_name": "Python 3",
   "language": "python",
   "name": "python3"
  },
  "language_info": {
   "codemirror_mode": {
    "name": "ipython",
    "version": 2
   },
   "file_extension": ".py",
   "mimetype": "text/x-python",
   "name": "python",
   "nbconvert_exporter": "python",
   "pygments_lexer": "ipython2",
   "version": "2.7.6"
  },
  "pycharm": {
   "stem_cell": {
    "cell_type": "raw",
    "source": [],
    "metadata": {
     "collapsed": false
    }
   }
  }
 },
 "nbformat": 4,
 "nbformat_minor": 0
}