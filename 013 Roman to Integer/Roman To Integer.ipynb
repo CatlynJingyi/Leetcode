{
 "cells": [
  {
   "cell_type": "markdown",
   "metadata": {},
   "source": [
    "## 1. 最直接想法:\n",
    "\n",
    "从左到右顺着读string, 如果左边的小于右边的就将两个组合在一起计算"
   ]
  },
  {
   "cell_type": "code",
   "execution_count": 1,
   "metadata": {},
   "outputs": [],
   "source": [
    "def romanToInt(s):\n",
    "    romandict={'I':1,'V':5,'X':10,'L':50,'C':100,'D':500,'M':1000}\n",
    "    res = 0\n",
    "    i = 0\n",
    "    while i<len(s):\n",
    "        cur = 0\n",
    "        if (i+1)<len(s) and romandict[s[i+1]]>romandict[s[i]]:\n",
    "            cur=romandict[s[i+1]]-romandict[s[i]]\n",
    "            i+=2\n",
    "        else:\n",
    "            cur=romandict[s[i]]\n",
    "            i+=1\n",
    "        res+=cur\n",
    "    return res"
   ]
  },
  {
   "cell_type": "code",
   "execution_count": 2,
   "metadata": {},
   "outputs": [
    {
     "name": "stdout",
     "output_type": "stream",
     "text": [
      "1994\n"
     ]
    }
   ],
   "source": [
    "print(romanToInt('MCMXCIV'))"
   ]
  },
  {
   "cell_type": "markdown",
   "metadata": {},
   "source": [
    "## 2. 改进方法:\n",
    "\n",
    "### (1). 从左到右顺着读取并一直做加法，若左<右，就将多加的减回来"
   ]
  },
  {
   "cell_type": "code",
   "execution_count": 4,
   "metadata": {},
   "outputs": [],
   "source": [
    "def romanToInt(s):\n",
    "    romandict={'I':1,'V':5,'X':10,'L':50,'C':100,'D':500,'M':1000}\n",
    "    res=0\n",
    "    prev_num=0\n",
    "    for i in s:\n",
    "        num=romandict[i]\n",
    "        res+=num\n",
    "        if prev_num<num:\n",
    "            res-=2*prev_num\n",
    "        prev_num=num\n",
    "    return res"
   ]
  },
  {
   "cell_type": "code",
   "execution_count": 5,
   "metadata": {},
   "outputs": [
    {
     "name": "stdout",
     "output_type": "stream",
     "text": [
      "9\n"
     ]
    }
   ],
   "source": [
    "print(romanToInt('IX'))"
   ]
  },
  {
   "cell_type": "markdown",
   "metadata": {},
   "source": [
    "该方法与1相比无改进： Runtime: 40 ms， Memory Usage: 12.7 MB"
   ]
  },
  {
   "cell_type": "markdown",
   "metadata": {},
   "source": [
    "### (2). 先将string转成int list, 然后将该减的改成负数"
   ]
  },
  {
   "cell_type": "code",
   "execution_count": null,
   "metadata": {},
   "outputs": [],
   "source": [
    "def romanToInt(s):\n",
    "    romandict={'I':1,'V':5,'X':10,'L':50,'C':100,'D':500,'M':1000}\n",
    "    return_list = [romandict[single] for single in s]\n",
    "    for i, single in enumerate(s[:-1]):\n",
    "        if return_list[i] < return_list[i+1]:\n",
    "            return_list[i] = -return_list[i]\n",
    "    return sum(return_list)"
   ]
  },
  {
   "cell_type": "markdown",
   "metadata": {},
   "source": [
    "该方法与1相比无改进： Runtime: 60 ms， Memory Usage: 12.9 MB"
   ]
  }
 ],
 "metadata": {
  "kernelspec": {
   "display_name": "Python 3",
   "language": "python",
   "name": "python3"
  },
  "language_info": {
   "codemirror_mode": {
    "name": "ipython",
    "version": 3
   },
   "file_extension": ".py",
   "mimetype": "text/x-python",
   "name": "python",
   "nbconvert_exporter": "python",
   "pygments_lexer": "ipython3",
   "version": "3.7.4"
  }
 },
 "nbformat": 4,
 "nbformat_minor": 2
}
